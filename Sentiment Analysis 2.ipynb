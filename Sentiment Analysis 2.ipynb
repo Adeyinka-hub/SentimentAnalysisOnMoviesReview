{
 "cells": [
  {
   "cell_type": "code",
   "execution_count": 1,
   "metadata": {},
   "outputs": [
    {
     "data": {
      "text/plain": [
       "('\"It is not surprising that this film was made by I\\'m Kwon Taek at the time it was. He examined the early beauty and tragedy of Chosun Dynasty life in Seopyonje and delightfully explored a well-known Korean folk tale in Chunhyang, and these comprised his last two films. What is most surprising is that Chi Hwa Seon, his 2002 offering, is not presented in the pansori style of those previous two films.<br /><br />Nonetheless, the experienced hand of I\\'m comes through. We explore together the life of a real person: a late nineteenth century Chosun Dynasty painter who rides on the edge of modernity but who is not a noble and who, because of that, causes a stir in contemporary Korean society with his fame and his public and artistic expressions of disdain for the old Korean noble class and his contempt for would-be Japanese ruling colonials alike. The painter, Chang Seung Up, known popularly as Oh Won (performed magnificently by Choi Min Sik, the famous star of Park Chan Wook\\'s already legendary \"\"OldBoy\"\") becomes more and more influential and therefore more dangerous throughout the film. Contemporary Korean audiences will back a hero like this despite the fact, or maybe because of the fact, that he was so ostracized in his time. I\\'m\\'s sense of simultaneous beauty and tragedy in history remains intact. I\\'m is a master at capturing his country\\'s past idiosyncrasies, and in this film he almost outdoes himself. As expected in an I\\'m film, the cinematography is breathtaking, the editing is precise and the story is central.<br /><br />Plots are set against Seung Up, family ties are tested and broken, scandalous behavior is alleged (and is sometimes real), all to bring down the man who \"\"painted fire.\"\" But against all the intricacies of I\\'m\\'s detailed but sometimes convoluted account of Seung Up\\'s life, Seung Up himself somehow manages to survive. He becomes legendary because of his ability to perfectly copy famous Chinese paintings after only one look. Art dealers and agents then besiege him and try to make money off \"\"Oh Won.\"\" In other words, lines of people, who wish to take advantage of the real Seung Up, an artistic star, begin to form. But he refuses to be manipulated. His cleverness in staving off both the massive hordes and the imperial lackeys impresses the audience, if not the cast. <br /><br />What does Seung Up think? He possesses powerful emotions and opinions about painting, such as the aesthetic belief that paintings are living things and are never truly finished. He despises those who would try to turn art into profit. And he cares not for politicians who use their might to bring artistic beauty around them and then cast off the artist as traitorous. But he also thinks that painting plays a role in the coming upheavals. Horrid scenes involving foreign invaders from France and Japan are presented. I\\'m\\'s signature historical epic motif, and his influence in the realm, remains on prominent display in this multi-million dollar epic. <br /><br />The protagonist causes greater grief for himself and those who care for him when he refuses to paint. This is when the story takes on a whole new meaning, one that is not just political, but social in nature. I\\'m takes on the issues in laudable realist fashion. <br /><br />He, Oh Won, becomes a Jesus figure. The people believe him capable of artistic miracles and the government feels it needs his artistic support, but the protagonist remains fiercely independent and contemptuous of what others want him to do or be. Eventually, both government and people come down upon Seung Up in a manner taken straight out of the Bible. His holiness becomes human; his humanity is not accepted; he dies for (or escapes from) the sins of the commoners, the art critics, the politicians, who hound him. <br /><br />But does he die? As with most of I\\'m\\'s films, a question remains. In this case, does Seung Up really become an immortal hermit? The film does not tackle that question; it merely presents a possible end for the real man of Chang Seung Up, or Oh Won. No death is depicted because no death is known. <br /><br />It is difficult to find fault with this film, but I\\'m has become so good at presenting various historical absurdities in his culture that when he does, it hardly surprises anymore. As usual for I\\'m\\'s films, the cinematography, the editing and the writing are all first rate. It\\'s a well-crafted film imbued with I\\'m\\'s uncanny story-telling ability. Granted, he may be best at doing this through the ancient Korean musical art of pansori. Still, the film contains stretches of this admirable art form, and by the end, viewers feel as if they have become privy to a great, untold story. And they have, because that, precisely, is I\\'m\\'s gift.\"',\n",
       " 1)"
      ]
     },
     "execution_count": 1,
     "metadata": {},
     "output_type": "execute_result"
    }
   ],
   "source": [
    "# stochastic gradient descent\n",
    "import numpy as np\n",
    "import re\n",
    "from nltk.corpus import stopwords\n",
    "stop = stopwords.words('english')\n",
    "\n",
    "# function that cleans thr unprocessed text data\n",
    "def tokenizer(text):\n",
    "    text = re.sub('<[^>]*>', '', text)\n",
    "    emoticons = re.findall('(?::|;|=)(?:-)?(?:\\)|\\(|D|P)', text.lower())\n",
    "    text = re.sub('[\\W]+', ' ', text.lower()) + ' '.join(emoticons).replace('-', '')\n",
    "    tokenized = [w for w in text.split() if w not in stop]\n",
    "    return tokenized\n",
    "\n",
    "\n",
    "# create generator function that reads in and returns one document at a time\n",
    "def stream_docs(path):\n",
    "    with open(path, 'r', encoding='utf-8') as csv:\n",
    "        next(csv) # skip header\n",
    "        for line in csv:\n",
    "            text, label = line[:-3], int(line[-2])\n",
    "            yield text, label\n",
    "\n",
    "next(stream_docs(path='./movie_data.csv'))\n"
   ]
  },
  {
   "cell_type": "code",
   "execution_count": 2,
   "metadata": {
    "collapsed": true
   },
   "outputs": [],
   "source": [
    "# define function that will take a document stream from the stream_docs function and return\n",
    "# a particular number of documents specified by the size paramter\n",
    "\n",
    "def get_minibatch(doc_stream, size):\n",
    "    docs, y = [],[]\n",
    "    try:\n",
    "        for _ in range(size):\n",
    "            text, label = next(doc_stream)\n",
    "            docs.append(text)\n",
    "            y.append(label)\n",
    "    except StopIteration:\n",
    "        return None, None\n",
    "    return docs, y"
   ]
  },
  {
   "cell_type": "code",
   "execution_count": 3,
   "metadata": {},
   "outputs": [
    {
     "name": "stderr",
     "output_type": "stream",
     "text": [
      "/home/salaudeen/anaconda3/lib/python3.6/site-packages/sklearn/linear_model/stochastic_gradient.py:73: DeprecationWarning: n_iter parameter is deprecated in 0.19 and will be removed in 0.21. Use max_iter and tol instead.\n",
      "  DeprecationWarning)\n"
     ]
    }
   ],
   "source": [
    "from sklearn.feature_extraction.text import HashingVectorizer\n",
    "from sklearn.linear_model import SGDClassifier\n",
    "\n",
    "vect = HashingVectorizer(decode_error='ignore',\n",
    "                        n_features=2**21,\n",
    "                        preprocessor=None,\n",
    "                        tokenizer=tokenizer)\n",
    "clf = SGDClassifier(loss='log', random_state=1, n_iter=1)\n",
    "doc_stream = stream_docs(path='./movie_data.csv')"
   ]
  },
  {
   "cell_type": "code",
   "execution_count": 4,
   "metadata": {},
   "outputs": [
    {
     "name": "stderr",
     "output_type": "stream",
     "text": [
      "0% [##############################] 100% | ETA: 00:00:00\n",
      "Total time elapsed: 00:00:50\n"
     ]
    }
   ],
   "source": [
    "import pyprind\n",
    "pbar = pyprind.ProgBar(45)\n",
    "classes = np.array([0,1])\n",
    "for _ in range(45):\n",
    "    X_train, y_train = get_minibatch(doc_stream, size=1000)\n",
    "    if not X_train:\n",
    "        break\n",
    "    X_train = vect.transform(X_train)\n",
    "    clf.partial_fit(X_train, y_train, classes=classes)\n",
    "    pbar.update()"
   ]
  },
  {
   "cell_type": "code",
   "execution_count": 5,
   "metadata": {},
   "outputs": [
    {
     "name": "stdout",
     "output_type": "stream",
     "text": [
      "Accuracy: 0.878\n"
     ]
    }
   ],
   "source": [
    "X_test, y_test = get_minibatch(doc_stream, size=5000)\n",
    "X_test = vect.transform(X_test)\n",
    "print('Accuracy: %.3f' % clf.score(X_test, y_test))"
   ]
  },
  {
   "cell_type": "code",
   "execution_count": 6,
   "metadata": {
    "collapsed": true
   },
   "outputs": [],
   "source": [
    "clf = clf.partial_fit(X_test, y_test)"
   ]
  }
 ],
 "metadata": {
  "kernelspec": {
   "display_name": "Python 3",
   "language": "python",
   "name": "python3"
  },
  "language_info": {
   "codemirror_mode": {
    "name": "ipython",
    "version": 3
   },
   "file_extension": ".py",
   "mimetype": "text/x-python",
   "name": "python",
   "nbconvert_exporter": "python",
   "pygments_lexer": "ipython3",
   "version": "3.6.2"
  }
 },
 "nbformat": 4,
 "nbformat_minor": 2
}
